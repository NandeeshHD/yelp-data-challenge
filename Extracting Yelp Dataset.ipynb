{
 "cells": [
  {
   "cell_type": "markdown",
   "metadata": {},
   "source": [
    "# Extract and transform Yelp dataset"
   ]
  },
  {
   "cell_type": "code",
   "execution_count": null,
   "metadata": {},
   "outputs": [],
   "source": [
    "!sudo wget -O /usr/sbin/gdrivedl 'https://f.mjh.nz/gdrivedl'\n",
    "!sudo chmod +x /usr/sbin/gdrivedl"
   ]
  },
  {
   "cell_type": "code",
   "execution_count": null,
   "metadata": {},
   "outputs": [],
   "source": [
    "!gdrivedl https://drive.google.com/file/d/12d2zEuuw8-k5fRclu0vcjR2N6sTmReVz/view?usp=sharing /home/jovyan/yelp_dataset.tar"
   ]
  },
  {
   "cell_type": "code",
   "execution_count": 3,
   "metadata": {},
   "outputs": [],
   "source": [
    "!mkdir /home/jovyan/logs\n",
    "!mkdir /home/jovyan/yelp_dataset\n",
    "!tar -C /home/jovyan/yelp_dataset -xvf /home/jovyan/yelp_dataset.tar"
   ]
  },
  {
   "cell_type": "code",
   "execution_count": 4,
   "metadata": {},
   "outputs": [
    {
     "name": "stdout",
     "output_type": "stream",
     "text": [
      "The history saving thread hit an unexpected error (OperationalError('database or disk is full',)).History will not be written to the database.\n"
     ]
    }
   ],
   "source": [
    "!rm /home/jovyan/yelp_dataset.tar"
   ]
  },
  {
   "cell_type": "code",
   "execution_count": 4,
   "metadata": {},
   "outputs": [],
   "source": [
    "!spark-submit utils/convert_json_to_parquet.py /home/jovyan/yelp_dataset/business.json \\\n",
    "                                               /home/jovyan/yelp_dataset_parquet/business \\\n",
    "                                               --numeric_id_over_col business_id > /home/jovyan/logs/business.txt 2>&1"
   ]
  },
  {
   "cell_type": "code",
   "execution_count": 3,
   "metadata": {},
   "outputs": [],
   "source": [
    "!spark-submit --driver-memory 8G utils/convert_json_to_parquet.py /home/jovyan/yelp_dataset/user.json \\\n",
    "                                                                  /home/jovyan/yelp_dataset_parquet/user \\\n",
    "                                                                  --numeric_id_over_col user_id > /home/jovyan/logs/user.txt 2>&1"
   ]
  },
  {
   "cell_type": "code",
   "execution_count": 5,
   "metadata": {},
   "outputs": [],
   "source": [
    "!spark-submit --driver-memory 8G utils/convert_json_to_parquet.py /home/jovyan/yelp_dataset/review.json \\\n",
    "                                                                  /home/jovyan/yelp_dataset_parquet/review \\\n",
    "                                                                  --numeric_id_over_col review_id > /home/jovyan/logs/review.txt 2>&1"
   ]
  },
  {
   "cell_type": "code",
   "execution_count": null,
   "metadata": {},
   "outputs": [],
   "source": [
    "!spark-submit --driver-memory 3G utils/convert_json_to_parquet.py /home/jovyan/yelp_dataset/checkin.json \\\n",
    "                                                                  /home/jovyan/yelp_dataset_parquet/checkin > /home/jovyan/logs/checkin.txt 2>&1"
   ]
  },
  {
   "cell_type": "code",
   "execution_count": null,
   "metadata": {},
   "outputs": [],
   "source": [
    "!spark-submit --driver-memory 3G utils/convert_json_to_parquet.py /home/jovyan/yelp_dataset/tip.json \\\n",
    "                                                                  /home/jovyan/yelp_dataset_parquet/tip  > /home/jovyan/logs/tip.txt 2>&1"
   ]
  },
  {
   "cell_type": "code",
   "execution_count": 1,
   "metadata": {},
   "outputs": [],
   "source": [
    "!spark-submit utils/convert_json_to_parquet.py /home/jovyan/yelp_dataset/photo.json \\\n",
    "                                               /home/jovyan/yelp_dataset_parquet/photo \\\n",
    "                                               --numeric_id_over_col photo_id > /home/jovyan/logs/photo.txt 2>&1"
   ]
  },
  {
   "cell_type": "code",
   "execution_count": null,
   "metadata": {},
   "outputs": [],
   "source": [
    "!rm -r /home/jovyan/yelp_dataset"
   ]
  },
  {
   "cell_type": "code",
   "execution_count": 2,
   "metadata": {},
   "outputs": [
    {
     "name": "stdout",
     "output_type": "stream",
     "text": [
      "File ID: 1npepf7QsFVFZLWrewUaLR6Hh6fBV_yRF\n",
      "Downloading: https://docs.google.com/uc?export=download&id=1npepf7QsFVFZLWrewUaLR6Hh6fBV_yRF > /home/jovyan/yelp_photos.tar.2511.file\n",
      "Downloading: https://docs.google.com/uc?export=download&id=1npepf7QsFVFZLWrewUaLR6Hh6fBV_yRF&confirm=l9K8 > /home/jovyan/yelp_photos.tar.2511.file\n",
      "Moving: /home/jovyan/yelp_photos.tar.2511.file > /home/jovyan/yelp_photos.tar\n",
      "Saved: /home/jovyan/yelp_photos.tar\n",
      "DONE!\n"
     ]
    }
   ],
   "source": [
    "!gdrivedl https://drive.google.com/file/d/1npepf7QsFVFZLWrewUaLR6Hh6fBV_yRF/view?usp=sharing /home/jovyan/yelp_photos.tar"
   ]
  },
  {
   "cell_type": "code",
   "execution_count": 5,
   "metadata": {},
   "outputs": [],
   "source": [
    "!mkdir /home/jovyan/yelp_photos\n",
    "!tar -C /home/jovyan/yelp_photos -xf /home/jovyan/yelp_photos.tar"
   ]
  },
  {
   "cell_type": "code",
   "execution_count": 6,
   "metadata": {},
   "outputs": [],
   "source": [
    "!rm /home/jovyan/yelp_photos.tar"
   ]
  },
  {
   "cell_type": "code",
   "execution_count": null,
   "metadata": {},
   "outputs": [],
   "source": []
  }
 ],
 "metadata": {
  "kernelspec": {
   "display_name": "Python 3",
   "language": "python",
   "name": "python3"
  },
  "language_info": {
   "codemirror_mode": {
    "name": "ipython",
    "version": 3
   },
   "file_extension": ".py",
   "mimetype": "text/x-python",
   "name": "python",
   "nbconvert_exporter": "python",
   "pygments_lexer": "ipython3",
   "version": "3.5.2"
  }
 },
 "nbformat": 4,
 "nbformat_minor": 2
}
