{
 "cells": [
  {
   "cell_type": "code",
   "execution_count": null,
   "metadata": {},
   "outputs": [],
   "source": [
    "!sudo wget -O /usr/sbin/gdrivedl 'https://f.mjh.nz/gdrivedl'\n",
    "!sudo chmod +x /usr/sbin/gdrivedl"
   ]
  },
  {
   "cell_type": "code",
   "execution_count": null,
   "metadata": {},
   "outputs": [],
   "source": [
    "!gdrivedl https://drive.google.com/file/d/12d2zEuuw8-k5fRclu0vcjR2N6sTmReVz/view?usp=sharing /home/ubuntu/yelp_dataset.tar"
   ]
  },
  {
   "cell_type": "code",
   "execution_count": 3,
   "metadata": {},
   "outputs": [],
   "source": [
    "!mkdir /home/ubuntu/logs\n",
    "!mkdir /home/ubuntu/yelp_dataset\n",
    "!tar -C /home/ubuntu/yelp_dataset -xvf /home/ubuntu/yelp_dataset.tar"
   ]
  },
  {
   "cell_type": "code",
   "execution_count": null,
   "metadata": {},
   "outputs": [],
   "source": [
    "!rm /home/ubuntu/yelp_dataset.tar"
   ]
  },
  {
   "cell_type": "code",
   "execution_count": 4,
   "metadata": {},
   "outputs": [],
   "source": [
    "!spark-submit utils/convert_json_to_parquet.py /home/ubuntu/yelp_dataset/business.json \\\n",
    "                                               /home/ubuntu/yelp_dataset_parquet/business \\\n",
    "                                               --numeric_id_over_col business_id > /home/ubuntu/logs/business.txt 2>&1"
   ]
  },
  {
   "cell_type": "code",
   "execution_count": 3,
   "metadata": {},
   "outputs": [],
   "source": [
    "!spark-submit --driver-memory 8G utils/convert_json_to_parquet.py /home/ubuntu/yelp_dataset/user.json \\\n",
    "                                                                  /home/ubuntu/yelp_dataset_parquet/user \\\n",
    "                                                                  --numeric_id_over_col user_id > /home/ubuntu/logs/user.txt 2>&1"
   ]
  },
  {
   "cell_type": "code",
   "execution_count": 5,
   "metadata": {},
   "outputs": [],
   "source": [
    "!spark-submit --driver-memory 8G utils/convert_json_to_parquet.py /home/ubuntu/yelp_dataset/review.json \\\n",
    "                                                                  /home/ubuntu/yelp_dataset_parquet/review \\\n",
    "                                                                  --numeric_id_over_col review_id > /home/ubuntu/logs/review.txt 2>&1"
   ]
  },
  {
   "cell_type": "code",
   "execution_count": null,
   "metadata": {},
   "outputs": [],
   "source": [
    "!spark-submit --driver-memory 3G utils/convert_json_to_parquet.py /home/ubuntu/yelp_dataset/checkin.json \\\n",
    "                                                                  /home/ubuntu/yelp_dataset_parquet/checkin > /home/ubuntu/logs/checkin.txt 2>&1"
   ]
  },
  {
   "cell_type": "code",
   "execution_count": null,
   "metadata": {},
   "outputs": [],
   "source": [
    "!spark-submit --driver-memory 3G utils/convert_json_to_parquet.py /home/ubuntu/yelp_dataset/tip.json \\\n",
    "                                                                  /home/ubuntu/yelp_dataset_parquet/tip  > /home/ubuntu/logs/tip.txt 2>&1"
   ]
  },
  {
   "cell_type": "code",
   "execution_count": 4,
   "metadata": {},
   "outputs": [],
   "source": [
    "!spark-submit utils/convert_json_to_parquet.py /home/ubuntu/yelp_dataset/photo.json \\\n",
    "                                               /home/ubuntu/yelp_dataset_parquet/photo \\\n",
    "                                               --numeric_id_over_col photo_id > /home/ubuntu/logs/photo.txt 2>&1"
   ]
  },
  {
   "cell_type": "code",
   "execution_count": null,
   "metadata": {},
   "outputs": [],
   "source": [
    "!rm -r /home/ubuntu/yelp_dataset"
   ]
  },
  {
   "cell_type": "code",
   "execution_count": null,
   "metadata": {},
   "outputs": [],
   "source": [
    "!gdrivedl https://drive.google.com/file/d/1npepf7QsFVFZLWrewUaLR6Hh6fBV_yRF/view?usp=sharing /home/ubuntu/yelp_photos.tar"
   ]
  },
  {
   "cell_type": "code",
   "execution_count": null,
   "metadata": {},
   "outputs": [],
   "source": [
    "!mkdir /home/ubuntu/yelp_photos\n",
    "!tar -C /home/ubuntu/yelp_photos -xf /home/ubuntu/yelp_photos.tar"
   ]
  },
  {
   "cell_type": "code",
   "execution_count": null,
   "metadata": {},
   "outputs": [],
   "source": [
    "!rm /home/ubuntu/yelp_photos.tar"
   ]
  },
  {
   "cell_type": "code",
   "execution_count": null,
   "metadata": {},
   "outputs": [],
   "source": []
  }
 ],
 "metadata": {
  "kernelspec": {
   "display_name": "Python 3",
   "language": "python",
   "name": "python3"
  },
  "language_info": {
   "codemirror_mode": {
    "name": "ipython",
    "version": 3
   },
   "file_extension": ".py",
   "mimetype": "text/x-python",
   "name": "python",
   "nbconvert_exporter": "python",
   "pygments_lexer": "ipython3",
   "version": "3.5.2"
  }
 },
 "nbformat": 4,
 "nbformat_minor": 2
}
